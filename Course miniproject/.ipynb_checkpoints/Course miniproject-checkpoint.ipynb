{
 "cells": [
  {
   "cell_type": "code",
   "execution_count": 18,
   "metadata": {},
   "outputs": [],
   "source": [
    "from Bio import Entrez\n",
    "from Bio import SeqIO\n",
    "from Bio import Phylo\n",
    "from io import StringIO"
   ]
  },
  {
   "cell_type": "markdown",
   "metadata": {},
   "source": [
    "## 1. Скачивание данных"
   ]
  },
  {
   "cell_type": "markdown",
   "metadata": {},
   "source": [
    "В качестве объекта исследования были выбраны попугаи."
   ]
  },
  {
   "cell_type": "markdown",
   "metadata": {},
   "source": [
    "![](mango-parrot-58711821.png)"
   ]
  },
  {
   "cell_type": "markdown",
   "metadata": {},
   "source": [
    "Отберем интересных нам попугаев. Выберем в качестве митохондриального маркера Cytb."
   ]
  },
  {
   "cell_type": "code",
   "execution_count": 5,
   "metadata": {},
   "outputs": [],
   "source": [
    "Entrez.email = \"stephenpetrosian@gmail.com\"\n",
    "handle = Entrez.esearch(db=\"nucleotide\", term='\"Parrot\"[Organism] AND Cytb[Gene]')\n",
    "record_seq = Entrez.read(handle)"
   ]
  },
  {
   "cell_type": "markdown",
   "metadata": {},
   "source": [
    "Получим сводную таблицу по последовательностям, содержащих выбранный нами маркер."
   ]
  },
  {
   "cell_type": "code",
   "execution_count": 7,
   "metadata": {},
   "outputs": [
    {
     "name": "stdout",
     "output_type": "stream",
     "text": [
      "Protein info\n",
      "UID: 1635255023\n",
      "Title: Coracopsis vasa voucher L609A cytochrome b (cytb) gene, partial cds; mitochondrial\n",
      "Sequence length: 1012\n",
      "\n",
      "Protein info\n",
      "UID: 1635255021\n",
      "Title: Coracopsis vasa voucher L608A cytochrome b (cytb) gene, partial cds; mitochondrial\n",
      "Sequence length: 809\n",
      "\n",
      "Protein info\n",
      "UID: 1635254957\n",
      "Title: Agapornis pullarius voucher L395 cytochrome b (cytb) gene, partial cds; mitochondrial\n",
      "Sequence length: 903\n",
      "\n",
      "Protein info\n",
      "UID: 1635254955\n",
      "Title: Agapornis pullarius voucher L393 cytochrome b (cytb) gene, partial cds; mitochondrial\n",
      "Sequence length: 909\n",
      "\n",
      "Protein info\n",
      "UID: 1635254953\n",
      "Title: Agapornis pullarius voucher L732 cytochrome b (cytb) gene, partial cds; mitochondrial\n",
      "Sequence length: 988\n",
      "\n",
      "Protein info\n",
      "UID: 1635254951\n",
      "Title: Agapornis pullarius voucher L725 cytochrome b (cytb) gene, partial cds; mitochondrial\n",
      "Sequence length: 985\n",
      "\n",
      "Protein info\n",
      "UID: 1777393218\n",
      "Title: Agapornis personatus mitochondrion, complete genome\n",
      "Sequence length: 16722\n",
      "\n",
      "Protein info\n",
      "UID: 1783497457\n",
      "Title: Psittacula roseata mitochondrion, complete genome\n",
      "Sequence length: 16814\n",
      "\n",
      "Protein info\n",
      "UID: 1783497443\n",
      "Title: Psittacula alexandri mitochondrion, complete genome\n",
      "Sequence length: 16883\n",
      "\n",
      "Protein info\n",
      "UID: 1783497345\n",
      "Title: Aratinga nenday mitochondrion, complete genome\n",
      "Sequence length: 16983\n",
      "\n",
      "Protein info\n",
      "UID: 1783497317\n",
      "Title: Agapornis lilianae mitochondrion, complete genome\n",
      "Sequence length: 16720\n",
      "\n",
      "Protein info\n",
      "UID: 1783497303\n",
      "Title: Agapornis pullarius mitochondrion, complete genome\n",
      "Sequence length: 16722\n",
      "\n",
      "Protein info\n",
      "UID: 1783497289\n",
      "Title: Agapornis nigrigenis mitochondrion, complete genome\n",
      "Sequence length: 16718\n",
      "\n",
      "Protein info\n",
      "UID: 1777434884\n",
      "Title: Psittacula krameri mitochondrion, partial genome\n",
      "Sequence length: 16413\n",
      "\n",
      "Protein info\n",
      "UID: 1777393403\n",
      "Title: Psittacula roseata mitochondrion, complete genome\n",
      "Sequence length: 16814\n",
      "\n",
      "Protein info\n",
      "UID: 1777393389\n",
      "Title: Psittacula alexandri mitochondrion, complete genome\n",
      "Sequence length: 16883\n",
      "\n",
      "Protein info\n",
      "UID: 1777393260\n",
      "Title: Aratinga nenday mitochondrion, complete genome\n",
      "Sequence length: 16983\n",
      "\n",
      "Protein info\n",
      "UID: 1777393232\n",
      "Title: Agapornis lilianae mitochondrion, complete genome\n",
      "Sequence length: 16720\n",
      "\n",
      "Protein info\n",
      "UID: 1777393204\n",
      "Title: Agapornis nigrigenis mitochondrion, complete genome\n",
      "Sequence length: 16718\n",
      "\n",
      "Protein info\n",
      "UID: 1770691503\n",
      "Title: Ara macao mitochondrion, complete genome\n",
      "Sequence length: 16970\n",
      "\n"
     ]
    }
   ],
   "source": [
    "for id in record_seq['IdList']:\n",
    "    handle = Entrez.esummary(db=\"nucleotide\", id=id)\n",
    "    record = Entrez.read(handle)\n",
    "    print(\"Protein info\\nUID: {}\\nTitle: {}\\nSequence length: {}\\n\".\n",
    "          format(record[0][\"Id\"], record[0][\"Title\"],record[0][\"Length\"]))"
   ]
  },
  {
   "cell_type": "markdown",
   "metadata": {},
   "source": [
    "Отберём из этого списка полные митохондриальные геномы и запишем их в FASTA файл. Получим 9 видов"
   ]
  },
  {
   "cell_type": "markdown",
   "metadata": {},
   "source": [
    "Protein info\n",
    "UID: 1777393218\n",
    "Accession number: Agapornis personatus mitochondrion, complete genome\n",
    "Sequence length: 16722\n",
    "\n",
    "Protein info\n",
    "UID: 1783497303\n",
    "Accession number: Agapornis pullarius mitochondrion, complete genome\n",
    "Sequence length: 16722\n",
    "\n",
    "Protein info\n",
    "UID: 1777434884\n",
    "Accession number: Psittacula krameri mitochondrion, partial genome\n",
    "Sequence length: 16413\n",
    "\n",
    "Protein info\n",
    "UID: 1777393403\n",
    "Accession number: Psittacula roseata mitochondrion, complete genome\n",
    "Sequence length: 16814\n",
    "\n",
    "Protein info\n",
    "UID: 1777393389\n",
    "Accession number: Psittacula alexandri mitochondrion, complete genome\n",
    "Sequence length: 16883\n",
    "\n",
    "Protein info\n",
    "UID: 1777393260\n",
    "Accession number: Aratinga nenday mitochondrion, complete genome\n",
    "Sequence length: 16983\n",
    "\n",
    "Protein info\n",
    "UID: 1777393232\n",
    "Accession number: Agapornis lilianae mitochondrion, complete genome\n",
    "Sequence length: 16720\n",
    "\n",
    "Protein info\n",
    "UID: 1777393204\n",
    "Accession number: Agapornis nigrigenis mitochondrion, complete genome\n",
    "Sequence length: 16718\n",
    "\n",
    "Protein info\n",
    "UID: 1770691503\n",
    "Accession number: Ara macao mitochondrion, complete genome\n",
    "Sequence length: 16970\n"
   ]
  },
  {
   "cell_type": "code",
   "execution_count": 9,
   "metadata": {},
   "outputs": [],
   "source": [
    "IdList = ['1777393218', '1783497303', '1777434884', '1777393403', '1777393389', '1777393260', '1777393232',\n",
    "         '1777393204', '1770691503']\n",
    "for id in IdList:\n",
    "    handle = Entrez.efetch(db=\"nucleotide\", id=id, rettype=\"fasta\", retmode=\"text\")\n",
    "    with open('parrots.fasta', 'a') as fasta_file:\n",
    "        fasta_file.write(handle.read())"
   ]
  },
  {
   "cell_type": "markdown",
   "metadata": {},
   "source": [
    "## 2. Получение деревьев"
   ]
  },
  {
   "cell_type": "markdown",
   "metadata": {},
   "source": [
    "Произведем выравнивание, используя Muscle."
   ]
  },
  {
   "cell_type": "code",
   "execution_count": null,
   "metadata": {},
   "outputs": [],
   "source": [
    "!muscle -in parrots.fasta  -out parrots_aln.fasta"
   ]
  },
  {
   "cell_type": "markdown",
   "metadata": {},
   "source": [
    "С помощью MegaX получим meg файл и так как программа ругается на запятые в заголовках, уберём их."
   ]
  },
  {
   "cell_type": "code",
   "execution_count": 11,
   "metadata": {},
   "outputs": [],
   "source": [
    "!sed -i -e 's/,/_/g' parrots_aln.meg"
   ]
  },
  {
   "cell_type": "markdown",
   "metadata": {},
   "source": [
    "### a) Методы расстояний"
   ]
  },
  {
   "cell_type": "markdown",
   "metadata": {},
   "source": [
    "Построим в MegaX дерево, используя UPGMA метод. Зададим число бутстрэп испытаний 10000."
   ]
  },
  {
   "cell_type": "code",
   "execution_count": 28,
   "metadata": {},
   "outputs": [
    {
     "data": {
      "image/png": "[encoded data removed]",
      "text/plain": [
       "<Figure size 432x288 with 1 Axes>"
      ]
     },
     "metadata": {
      "needs_background": "light"
     },
     "output_type": "display_data"
    }
   ],
   "source": [
    "with open('parrots_upgma_bt.nwk') as tree:\n",
    "    nwk = [line for line in tree]\n",
    "    tree = Phylo.read(StringIO(*nwk), 'newick')\n",
    "Phylo.draw(tree)"
   ]
  },
  {
   "cell_type": "markdown",
   "metadata": {},
   "source": [
    "### б) Дискретные методы"
   ]
  },
  {
   "cell_type": "markdown",
   "metadata": {},
   "source": [
    "Построим в MegaX дерево, используя ML метод. Зададим число бутстрэп испытаний 350."
   ]
  },
  {
   "cell_type": "code",
   "execution_count": 30,
   "metadata": {},
   "outputs": [
    {
     "data": {
      "image/png": "[encoded data removed]",
      "text/plain": [
       "<Figure size 432x288 with 1 Axes>"
      ]
     },
     "metadata": {
      "needs_background": "light"
     },
     "output_type": "display_data"
    }
   ],
   "source": [
    "with open('parrots_ml_bt.nwk') as tree:\n",
    "    nwk = [line for line in tree]\n",
    "    tree = Phylo.read(StringIO(*nwk), 'newick')\n",
    "Phylo.draw(tree)"
   ]
  },
  {
   "cell_type": "markdown",
   "metadata": {},
   "source": [
    "## 3. Анализ полученной информации"
   ]
  },
  {
   "cell_type": "markdown",
   "metadata": {},
   "source": [
    "![](kovalmeme.jpg)"
   ]
  },
  {
   "cell_type": "raw",
   "metadata": {},
   "source": [
    "Выберем дерево, полученное при помощи UPGMA, ибо оно не столь богатое на политомии."
   ]
  },
  {
   "cell_type": "markdown",
   "metadata": {},
   "source": [
    "Отметим, что представители Psittacula, Ara\\Aratinga,  Agapornis живут, соответственно, в районе Индии, в районе Южной Америки и в районе Африки.  Соответственно, на дереве мы можем разделенность каждого из родов. У каждого из родов разные предки."
   ]
  },
  {
   "cell_type": "markdown",
   "metadata": {},
   "source": [
    "Можем заметить, что вопреки принадлежности Aratinga и Ara к разным родам, представители обоих родов очень близки родственно друг к другу. Кроме того, ареал их обитания совпадает."
   ]
  },
  {
   "cell_type": "markdown",
   "metadata": {},
   "source": [
    "У нас вышли две отчётливые линии для Agapornis и Psittacula."
   ]
  },
  {
   "cell_type": "markdown",
   "metadata": {},
   "source": [
    "### Agapornis"
   ]
  },
  {
   "cell_type": "markdown",
   "metadata": {},
   "source": [
    "![](800px-Black-checked_Lovebird_RWD.jpg)\n",
    "Agapornis nigrigenis\n",
    "![](Masked_Lovebird_(Agapornis_personata)_pet_on_cage.png)\n",
    "Agapornis personata\n",
    "![](agapornis_pullarius.jpg)\n",
    "Agapornis pullarius\n",
    "![](agapornis_lilianae.jpeg)\n",
    "Agapornis lilianae"
   ]
  },
  {
   "cell_type": "markdown",
   "metadata": {},
   "source": [
    "Заметим, что чем ближе к Agapornis pullarius, тем короче клюв представителя вида. Кроме того, отмечается, что Agapornis nigrigenis в сравнении с Pullarius меньше по размеру (14 см против 15 см)."
   ]
  },
  {
   "cell_type": "markdown",
   "metadata": {},
   "source": [
    "Кроме того, нельзя не отметить схожесть Agapornis pullarius и Agapornis lilianae. Это подтверждается их родственным положением на одной кладе."
   ]
  },
  {
   "cell_type": "markdown",
   "metadata": {},
   "source": [
    "### Psittacula"
   ]
  },
  {
   "cell_type": "markdown",
   "metadata": {},
   "source": [
    "![](psitacula_roseata.jpg)\n",
    "Psitacula roseata\n",
    "![](Psittacula_krameri.jpg)\n",
    "Psitacula krameri\n",
    "![](psittacula_alexandri.jpg)\n",
    "Psitacula alexandri"
   ]
  },
  {
   "cell_type": "markdown",
   "metadata": {},
   "source": [
    "По ходу роста дерева наблюдался и рост попугаев. Длина тела Roseata - 30—35 см. В то время как Psittacula alexandri и Psittacula krameri - 33-35 см и 40-42 см."
   ]
  },
  {
   "cell_type": "markdown",
   "metadata": {},
   "source": [
    "### Aratinga\\Ara"
   ]
  },
  {
   "cell_type": "markdown",
   "metadata": {},
   "source": [
    "![](aratinga_nenday.jpg)\n",
    "Aratinga nenday\n",
    "![](Ara_Macao.jpg)\n",
    "Ara Macao"
   ]
  },
  {
   "cell_type": "markdown",
   "metadata": {},
   "source": [
    "Несмотря на расположение на одной кладе, очевидно, что на дереве имеется довольно много пропущенных между ними видов, так как внешне попугаи очень сильно различаются. Расположение на одной кладе можно попытаться объяснить разеляемым ими ареалом обитания."
   ]
  },
  {
   "cell_type": "code",
   "execution_count": null,
   "metadata": {},
   "outputs": [],
   "source": []
  }
 ],
 "metadata": {
  "kernelspec": {
   "display_name": "Python 3",
   "language": "python",
   "name": "python3"
  },
  "language_info": {
   "codemirror_mode": {
    "name": "ipython",
    "version": 3
   },
   "file_extension": ".py",
   "mimetype": "text/x-python",
   "name": "python",
   "nbconvert_exporter": "python",
   "pygments_lexer": "ipython3",
   "version": "3.6.9"
  }
 },
 "nbformat": 4,
 "nbformat_minor": 4
}
