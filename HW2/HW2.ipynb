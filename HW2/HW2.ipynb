{
 "cells": [
  {
   "cell_type": "markdown",
   "metadata": {},
   "source": [
    "# Часть 1 - Манипуляции с E-Utilities"
   ]
  },
  {
   "cell_type": "markdown",
   "metadata": {},
   "source": [
    "## 0. Импорт библиотеки"
   ]
  },
  {
   "cell_type": "markdown",
   "metadata": {},
   "source": [
    "## 1. Запросим информацию по последовательностям, содержащим выбранный нами ген"
   ]
  },
  {
   "cell_type": "code",
   "execution_count": 1,
   "metadata": {},
   "outputs": [],
   "source": [
    "from Bio import Entrez\n",
    "from Bio import SeqIO\n",
    "import xml.etree.ElementTree as ET"
   ]
  },
  {
   "cell_type": "markdown",
   "metadata": {},
   "source": [
    "## 2. Построим сводную таблицу"
   ]
  },
  {
   "cell_type": "code",
   "execution_count": 2,
   "metadata": {},
   "outputs": [],
   "source": [
    "Entrez.email = \"stephenpetrosian@gmail.com\"\n",
    "handle = Entrez.esearch(db=\"nucleotide\", term='\"Human\"[Organism] AND GSPT1[Gene]')\n",
    "record_seq = Entrez.read(handle)"
   ]
  },
  {
   "cell_type": "code",
   "execution_count": 8,
   "metadata": {},
   "outputs": [
    {
     "name": "stdout",
     "output_type": "stream",
     "text": [
      "Protein info\n",
      "UID: 1676355513\n",
      "Accession number: NM_001130006\n",
      "Sequence length: 7138\n",
      "\n",
      "Protein info\n",
      "UID: 1676319656\n",
      "Accession number: NM_001130007\n",
      "Sequence length: 7166\n",
      "\n",
      "Protein info\n",
      "UID: 1519312966\n",
      "Accession number: NM_002094\n",
      "Sequence length: 7141\n",
      "\n",
      "Protein info\n",
      "UID: 568815582\n",
      "Accession number: NC_000016\n",
      "Sequence length: 90338345\n",
      "\n",
      "Protein info\n",
      "UID: 74273666\n",
      "Accession number: CM000267\n",
      "Sequence length: 75226909\n",
      "\n",
      "Protein info\n",
      "UID: 74230029\n",
      "Accession number: CH471112\n",
      "Sequence length: 14690834\n",
      "\n",
      "Protein info\n",
      "UID: 33874733\n",
      "Accession number: BC009503\n",
      "Sequence length: 2523\n",
      "\n",
      "Protein info\n",
      "UID: 39754980\n",
      "Accession number: AY398991\n",
      "Sequence length: 1562\n",
      "\n",
      "Protein info\n",
      "UID: 307685420\n",
      "Accession number: AB590486\n",
      "Sequence length: 1919\n",
      "\n"
     ]
    }
   ],
   "source": [
    "for id in record_seq['IdList']:\n",
    "    handle = Entrez.esummary(db=\"nucleotide\", id=id)\n",
    "    record = Entrez.read(handle)\n",
    "    print(\"Protein info\\nUID: {}\\nAccession number: {}\\nSequence length: {}\\n\".\n",
    "          format(record[0][\"Id\"], record[0][\"Caption\"],record[0][\"Length\"]))"
   ]
  },
  {
   "cell_type": "markdown",
   "metadata": {},
   "source": [
    "## 3. Скачивание запрошенных нами последовательностей"
   ]
  },
  {
   "cell_type": "code",
   "execution_count": 3,
   "metadata": {},
   "outputs": [],
   "source": [
    "for id in record_seq['IdList']:\n",
    "    handle = Entrez.efetch(db=\"nucleotide\", id=id, rettype=\"fasta\", retmode=\"text\")\n",
    "    with open('entrez.fasta', 'a') as fasta_file:\n",
    "        fasta_file.write(handle.read())"
   ]
  },
  {
   "cell_type": "markdown",
   "metadata": {},
   "source": [
    "## 4. Скачивание всех последовательностей из заданной статьи"
   ]
  },
  {
   "cell_type": "code",
   "execution_count": 4,
   "metadata": {},
   "outputs": [],
   "source": [
    "handle_PMID = Entrez.efetch(db=\"pubmed\", id=12890024, retmode=\"xml\")\n",
    "root = ET.fromstring(handle_PMID.read())\n",
    "for neighbor in root.iter('AccessionNumber'):\n",
    "    handle = Entrez.efetch(db=\"nucleotide\", id=neighbor.text, rettype=\"fasta\", retmode=\"text\")\n",
    "    with open('entrezPMID.fasta', 'a') as fasta_file:\n",
    "        fasta_file.write(handle.read())"
   ]
  },
  {
   "cell_type": "markdown",
   "metadata": {},
   "source": [
    "# Часть 2 - Множественное выравнивание"
   ]
  },
  {
   "cell_type": "markdown",
   "metadata": {},
   "source": [
    "## 1. Описание данных"
   ]
  },
  {
   "cell_type": "markdown",
   "metadata": {},
   "source": [
    "|  Организм            \t| Белок                                                       \t| Ген   \t|\n",
    "|----------------------\t|-------------------------------------------------------------\t|-------\t|\n",
    "| Kluyveromyces lactis \t| Eukaryotic peptide chain release factor GTP-binding subunit \t| SUP35 \t|"
   ]
  },
  {
   "cell_type": "markdown",
   "metadata": {},
   "source": [
    "## 2. Сравнение алгоритмов выравнивания"
   ]
  },
  {
   "cell_type": "markdown",
   "metadata": {},
   "source": [
    "Запустим ряд алгоритмов выравнивания и сравним их время работы."
   ]
  },
  {
   "cell_type": "markdown",
   "metadata": {},
   "source": [
    "|      | Muscle   | Mafft    | Prank    | Kalign   |\n",
    "|------|----------|----------|----------|----------|\n",
    "| Time | 0m5,220s | 0m3,613s | 0m9,176s | 0m0,396s |"
   ]
  },
  {
   "cell_type": "markdown",
   "metadata": {},
   "source": [
    "## 3. Что не так с SUP35_10seqs_strange_aln.fa?"
   ]
  },
  {
   "cell_type": "markdown",
   "metadata": {},
   "source": [
    "Пропуски. Их много. Чтобы исправить это, лучше всего сравнить деревья, полученные с использованием всех данных или только отфильтрованных позиций, и в случае серьёзных различий решать, какое выравнивание лучше отражает биологическую ситуацию."
   ]
  },
  {
   "cell_type": "markdown",
   "metadata": {},
   "source": [
    "## 4. Получение белка и его выравнивание"
   ]
  },
  {
   "cell_type": "markdown",
   "metadata": {},
   "source": [
    "Получим аминокислотную последовательность"
   ]
  },
  {
   "cell_type": "code",
   "execution_count": 6,
   "metadata": {},
   "outputs": [],
   "source": [
    "with open(\"SUP35_10seqs.fa\", \"r\") as handle, open('SUP35_10_prot.fa', 'a') as prot_file:\n",
    "    for record in SeqIO.parse(handle, \"fasta\"):\n",
    "        prot_file.write('>')\n",
    "        prot_file.write(record.id)\n",
    "        prot_file.write('\\n')\n",
    "        prot_file.write(str(record.seq.translate()))\n",
    "        prot_file.write('\\n')"
   ]
  },
  {
   "cell_type": "markdown",
   "metadata": {},
   "source": [
    "Запустим на ней ряд алгоритмов выравнивания и сравним время работы."
   ]
  },
  {
   "cell_type": "markdown",
   "metadata": {},
   "source": [
    "|      | Muscle   | Mafft    | Prank    | Kalign   |\n",
    "|------|----------|----------|----------|----------|\n",
    "| Time | 0m0,281s | 0m0,566s |  0m14,131s | 0m0,082s |"
   ]
  }
 ],
 "metadata": {
  "kernelspec": {
   "display_name": "Python 3",
   "language": "python",
   "name": "python3"
  },
  "language_info": {
   "codemirror_mode": {
    "name": "ipython",
    "version": 3
   },
   "file_extension": ".py",
   "mimetype": "text/x-python",
   "name": "python",
   "nbconvert_exporter": "python",
   "pygments_lexer": "ipython3",
   "version": "3.6.9"
  }
 },
 "nbformat": 4,
 "nbformat_minor": 4
}
